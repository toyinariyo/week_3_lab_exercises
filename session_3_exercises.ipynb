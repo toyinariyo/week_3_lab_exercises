{
 "cells": [
  {
   "cell_type": "code",
   "execution_count": 2,
   "metadata": {},
   "outputs": [],
   "source": [
    "import pandas as pd\n",
    "import matplotlib.pyplot as plt"
   ]
  },
  {
   "cell_type": "code",
   "execution_count": 3,
   "metadata": {},
   "outputs": [
    {
     "name": "stdout",
     "output_type": "stream",
     "text": [
      "First 5 rows of Brazillian Amazon fires data:\n",
      "   year  month        state   latitude  longitude  firespots\n",
      "0  1999      1     AMAZONAS  -2.371113 -59.899933          3\n",
      "1  1999      1     MARANHAO  -2.257395 -45.487831         36\n",
      "2  1999      1  MATO GROSSO -12.660633 -55.057989         18\n",
      "3  1999      1         PARA  -2.474820 -48.546967         87\n",
      "4  1999      1     RONDONIA -12.861700 -60.513100          1\n"
     ]
    }
   ],
   "source": [
    "df = pd.read_csv('brazilian_amazon_fires_1999_2019.csv')\n",
    "print(\"First 5 rows of Brazillian Amazon fires data:\")\n",
    "print(df.head())"
   ]
  },
  {
   "cell_type": "code",
   "execution_count": 4,
   "metadata": {},
   "outputs": [
    {
     "name": "stdout",
     "output_type": "stream",
     "text": [
      "Basic summary statistics:\n",
      "              year        month     latitude    longitude     firespots\n",
      "count  2104.000000  2104.000000  2104.000000  2104.000000   2104.000000\n",
      "mean   2009.267110     6.704848    -5.439282   -56.510314   1167.417776\n",
      "std       5.963029     3.431949     4.852439     7.382619   2959.558714\n",
      "min    1999.000000     1.000000   -14.431908   -73.085000      1.000000\n",
      "25%    2004.000000     4.000000    -9.946974   -62.376004     16.000000\n",
      "50%    2009.000000     7.000000    -5.808292   -55.876480    121.000000\n",
      "75%    2014.000000    10.000000    -2.595169   -50.396154    755.000000\n",
      "max    2019.000000    12.000000     4.151000   -44.188000  37926.000000\n"
     ]
    }
   ],
   "source": [
    "print(\"Basic summary statistics:\")\n",
    "print(df.describe())"
   ]
  }
 ],
 "metadata": {
  "kernelspec": {
   "display_name": "Python 3",
   "language": "python",
   "name": "python3"
  },
  "language_info": {
   "codemirror_mode": {
    "name": "ipython",
    "version": 3
   },
   "file_extension": ".py",
   "mimetype": "text/x-python",
   "name": "python",
   "nbconvert_exporter": "python",
   "pygments_lexer": "ipython3",
   "version": "3.13.0"
  }
 },
 "nbformat": 4,
 "nbformat_minor": 2
}
