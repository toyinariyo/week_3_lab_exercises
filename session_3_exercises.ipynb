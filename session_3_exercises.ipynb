{
 "cells": [
  {
   "cell_type": "code",
   "execution_count": 2,
   "metadata": {},
   "outputs": [],
   "source": [
    "import pandas as pd\n",
    "import matplotlib.pyplot as plt"
   ]
  },
  {
   "cell_type": "code",
   "execution_count": 3,
   "metadata": {},
   "outputs": [
    {
     "name": "stdout",
     "output_type": "stream",
     "text": [
      "First 5 rows of Brazillian Amazon fires data:\n",
      "   year  month        state   latitude  longitude  firespots\n",
      "0  1999      1     AMAZONAS  -2.371113 -59.899933          3\n",
      "1  1999      1     MARANHAO  -2.257395 -45.487831         36\n",
      "2  1999      1  MATO GROSSO -12.660633 -55.057989         18\n",
      "3  1999      1         PARA  -2.474820 -48.546967         87\n",
      "4  1999      1     RONDONIA -12.861700 -60.513100          1\n"
     ]
    }
   ],
   "source": [
    "df = pd.read_csv('brazilian_amazon_fires_1999_2019.csv')\n",
    "print(\"First 5 rows of Brazillian Amazon fires data:\")\n",
    "print(df.head())"
   ]
  }
 ],
 "metadata": {
  "kernelspec": {
   "display_name": "Python 3",
   "language": "python",
   "name": "python3"
  },
  "language_info": {
   "codemirror_mode": {
    "name": "ipython",
    "version": 3
   },
   "file_extension": ".py",
   "mimetype": "text/x-python",
   "name": "python",
   "nbconvert_exporter": "python",
   "pygments_lexer": "ipython3",
   "version": "3.13.0"
  }
 },
 "nbformat": 4,
 "nbformat_minor": 2
}
